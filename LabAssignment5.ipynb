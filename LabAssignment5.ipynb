{
  "nbformat": 4,
  "nbformat_minor": 0,
  "metadata": {
    "colab": {
      "name": "LabAssignment5.ipynb",
      "provenance": [],
      "collapsed_sections": [],
      "authorship_tag": "ABX9TyN8bGMBdOMDJAl6WtfSEdfn",
      "include_colab_link": true
    },
    "kernelspec": {
      "name": "python3",
      "display_name": "Python 3"
    }
  },
  "cells": [
    {
      "cell_type": "markdown",
      "metadata": {
        "id": "view-in-github",
        "colab_type": "text"
      },
      "source": [
        "<a href=\"https://colab.research.google.com/github/aharnishdwivedi/python-practice/blob/main/LabAssignment5.ipynb\" target=\"_parent\"><img src=\"https://colab.research.google.com/assets/colab-badge.svg\" alt=\"Open In Colab\"/></a>"
      ]
    },
    {
      "cell_type": "markdown",
      "metadata": {
        "id": "4zRPTR3pbMgC"
      },
      "source": [
        "1)Write a Python program to get the Python version you are using.\n"
      ]
    },
    {
      "cell_type": "code",
      "metadata": {
        "id": "Uqw0eklVbQvA",
        "outputId": "9bbb9f40-9f47-4c96-b70f-2902f8cba622",
        "colab": {
          "base_uri": "https://localhost:8080/",
          "height": 105
        }
      },
      "source": [
        "import sys\n",
        "print(\"Python version \")",
        "print (sys.version)\n",
        "print(\"Version info. \")",
        "print (sys.version_info)"
      ],
      "execution_count": null,
      "outputs": [
        {
          "output_type": "stream",
          "text": [
            "Python version\n",
            "3.6.9 (default, Jul 17 2020, 12:50:27) \n",
            "[GCC 8.4.0]\n",
            "Version info.\n",
            "sys.version_info(major=3, minor=6, micro=9, releaselevel='final', serial=0)\n"
          ],
          "name": "stdout"
        }
      ]
    },
    {
      "cell_type": "markdown",
      "metadata": {
        "id": "X5Qxe7yfbRKb"
      },
      "source": [
        "2)Write a Python program to display the current date and time."
      ]
    },
    {
      "cell_type": "code",
      "metadata": {
        "id": "2FvFUY1HbRUT",
        "outputId": "68110609-4283-4196-e51e-2d59a26af85c",
        "colab": {
          "base_uri": "https://localhost:8080/",
          "height": 52
        }
      },
      "source": [
        "import datetime\n",
        "now = datetime.datetime.now()\n",
        "print (\"Current date and time : \")\n",
        "print (now.strftime(\"%Y-%m-%d %H:%M:%S\"))"
      ],
      "execution_count": null,
      "outputs": [
        {
          "output_type": "stream",
          "text": [
            "Current date and time : \n",
            "2020-10-04 11:48:47\n"
          ],
          "name": "stdout"
        }
      ]
    },
    {
      "cell_type": "markdown",
      "metadata": {
        "id": "OEpnuxNMbRd7"
      },
      "source": [
        "3)Write a Python program to create an array of 5 integers and display the\n",
        "array items. Access individual element through indexes. Write a Python\n",
        "program to convert an array to an ordinary list with the same items."
      ]
    },
    {
      "cell_type": "code",
      "metadata": {
        "id": "gr_VFC9ObRkY",
        "outputId": "04ef743b-f491-4535-b266-4681576f788f",
        "colab": {
          "base_uri": "https://localhost:8080/",
          "height": 158
        }
      },
      "source": [
        "import numpy\n",
        "#defining array of 5 elements\n",
        "arr=numpy.array([1,2,3,4,5])\n",
        "print(\"Printing each element by index ...\")\n",
        "for i in range(5):\n",
        "  print(arr[i])\n",
        "#Converting to list\n",
        "print(\"list: \")\n",
        "list1=arr.tolist()\n",
        "print(list1)\n"
      ],
      "execution_count": null,
      "outputs": [
        {
          "output_type": "stream",
          "text": [
            "Printing each element by index ...\n",
            "1\n",
            "2\n",
            "3\n",
            "4\n",
            "5\n",
            "list: \n",
            "[1, 2, 3, 4, 5]\n"
          ],
          "name": "stdout"
        }
      ]
    },
    {
      "cell_type": "markdown",
      "metadata": {
        "id": "BGQaDv5UbR6D"
      },
      "source": [
        "4)Write a Python program to create an array of 10 integers &amp; then reverse\n",
        "the elements of array without using in-built functions."
      ]
    },
    {
      "cell_type": "code",
      "metadata": {
        "id": "K4FqKE5NbR-y",
        "outputId": "cd6ecead-12e0-4fcb-8f78-4d7962c205d0",
        "colab": {
          "base_uri": "https://localhost:8080/",
          "height": 52
        }
      },
      "source": [
        "arr = [1,2,3,4,5,6,7,8,9,10]\n",
        "print(\"Array is :\",arr)\n",
        " \n",
        "res = arr[::-1]\n",
        "print(\"Resultant new reversed array:\",res)"
      ],
      "execution_count": null,
      "outputs": [
        {
          "output_type": "stream",
          "text": [
            "Array is : [1, 2, 3, 4, 5, 6, 7, 8, 9, 10]\n",
            "Resultant new reversed array: [10, 9, 8, 7, 6, 5, 4, 3, 2, 1]\n"
          ],
          "name": "stdout"
        }
      ]
    },
    {
      "cell_type": "markdown",
      "metadata": {
        "id": "WmtUgYmibSbN"
      },
      "source": [
        "5)Write a Python program to create two different matrices of dimension\n",
        "3x4 and 4x3. Perform matrix multiplication of these two matrices\n",
        "without using any in-built function."
      ]
    },
    {
      "cell_type": "code",
      "metadata": {
        "id": "B2-lrqlObShC",
        "outputId": "a0a60908-b28e-4ca0-9be2-55c6118a37b7",
        "colab": {
          "base_uri": "https://localhost:8080/",
          "height": 87
        }
      },
      "source": [
        "# 4x3 matrix\n",
        "X = [[12,7,3],\n",
        "    [4 ,5,6],\n",
        "    [7 ,8,9],\n",
        "    [12,3,54]]\n",
        "# 3x4 matrix\n",
        "Y = [[5,8,1,2],\n",
        "    [6,7,3,0],\n",
        "    [4,5,9,1]]\n",
        "# result is 4x4\n",
        "result = [[0,0,0,0],\n",
        "         [0,0,0,0],\n",
        "         [0,0,0,0],\n",
        "         [0,0,0,0]]\n",
        "\n",
        "# iterate through rows of X\n",
        "for i in range(len(X)):\n",
        "   # iterate through columns of Y\n",
        "   for j in range(len(Y[0])):\n",
        "       # iterate through rows of Y\n",
        "       for k in range(len(Y)):\n",
        "           result[i][j] += X[i][k] * Y[k][j]\n",
        "\n",
        "for r in result:\n",
        "   print(r)"
      ],
      "execution_count": null,
      "outputs": [
        {
          "output_type": "stream",
          "text": [
            "[114, 160, 60, 27]\n",
            "[74, 97, 73, 14]\n",
            "[119, 157, 112, 23]\n",
            "[294, 387, 507, 78]\n"
          ],
          "name": "stdout"
        }
      ]
    },
    {
      "cell_type": "markdown",
      "metadata": {
        "id": "PyfZtBJwbSoO"
      },
      "source": [
        "6)Write a program to implement insertion sort algorithm in Python."
      ]
    },
    {
      "cell_type": "code",
      "metadata": {
        "id": "qTg-GQc7bStN",
        "outputId": "10226b92-3077-4182-f123-89b49181b5e9",
        "colab": {
          "base_uri": "https://localhost:8080/",
          "height": 52
        }
      },
      "source": [
        "def insertion_sort(alist):\n",
        "  for i in range(1, len(alist)):\n",
        "    temp = alist[i]\n",
        "    j = i - 1\n",
        "    while (j >= 0 and temp < alist[j]):\n",
        "      alist[j + 1] = alist[j]\n",
        "      j = j - 1\n",
        "    alist[j + 1] = temp\n",
        "    \n",
        "alist = input('Enter the list of numbers: ').split()\n",
        "alist = [int(x) for x in alist]\n",
        "insertion_sort(alist)\n",
        "print('Sorted list: ', end='')\n",
        "print(alist)"
      ],
      "execution_count": null,
      "outputs": [
        {
          "output_type": "stream",
          "text": [
            "Enter the list of numbers: 5 6 76 43\n",
            "Sorted list: [5, 6, 43, 76]\n"
          ],
          "name": "stdout"
        }
      ]
    },
    {
      "cell_type": "code",
      "metadata": {
        "id": "VfIuXVI-rRBQ"
      },
      "source": [
        ""
      ],
      "execution_count": null,
      "outputs": []
    }
  ]
}
