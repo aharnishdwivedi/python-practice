{
  "nbformat": 4,
  "nbformat_minor": 0,
  "metadata": {
    "colab": {
      "name": "lab exercise 1.ipynb",
      "provenance": [],
      "collapsed_sections": [],
      "authorship_tag": "ABX9TyNHGvcsuaXkrRAwTkTESmQN",
      "include_colab_link": true
    },
    "kernelspec": {
      "name": "python3",
      "display_name": "Python 3"
    }
  },
  "cells": [
    {
      "cell_type": "markdown",
      "metadata": {
        "id": "view-in-github",
        "colab_type": "text"
      },
      "source": [
        "<a href=\"https://colab.research.google.com/github/aharnishdwivedi/python-practice/blob/main/lab_exercise_1.ipynb\" target=\"_parent\"><img src=\"https://colab.research.google.com/assets/colab-badge.svg\" alt=\"Open In Colab\"/></a>"
      ]
    },
    {
      "cell_type": "markdown",
      "metadata": {
        "id": "nHJmBf8lNYBS"
      },
      "source": [
        "Exercise 1: WAP to add three numbers and print result. Also use Comments in the code.\n",
        "\n",
        "Exercise 2: WAP to display your name & roll number in python.\n",
        "\n",
        "Exercise 3: WAP to add three numbers, inputs from user and print result Try: In above program, give number in place of string and try to get the difference between input() and raw_input() function.\n",
        "\n",
        "Exercise 4: WAP to concatenate your first & last name. Take inputs from keyboard and then print\n",
        "\n",
        "Exercise 5: WAP to declare three variables x,y and z and assign the values 33, 17.5 and \"Python\" in one single line & print data type of each variable.\n",
        "\n",
        "Exercise 6: WAP to convert an integer variable x=17 into complex number"
      ]
    },
    {
      "cell_type": "code",
      "metadata": {
        "id": "faWMvWaKNi_P",
        "outputId": "ad70e2c0-33ef-40cb-f1f8-d8b963c9cdf3",
        "colab": {
          "base_uri": "https://localhost:8080/",
          "height": 87
        }
      },
      "source": [
        "#soln 1\n",
        "a = int(input(\"Enter First number: \"))\n",
        "b = int(input(\"Enter Second number: \"))\n",
        "c = int(input(\"Enter Third number: \"))\n",
        "print(a+b+c)"
      ],
      "execution_count": null,
      "outputs": [
        {
          "output_type": "stream",
          "text": [
            "Enter First number: 2\n",
            "Enter Second number: 3\n",
            "Enter Third number: 3\n",
            "8\n"
          ],
          "name": "stdout"
        }
      ]
    },
    {
      "cell_type": "code",
      "metadata": {
        "id": "GeSdFU31OAb5",
        "outputId": "a65f569b-f8d5-4834-ffa9-604389cb294b",
        "colab": {
          "base_uri": "https://localhost:8080/",
          "height": 105
        }
      },
      "source": [
        "#soln2\n",
        "name = \"Aharnish Dwivedi\"\n",
        "roll = int(191347)\n",
        "\n",
        "print(\"My Name is \")\n",
        "print(name)\n",
        "print(\"\\nMy roll number is \")\n",
        "print(roll)"
      ],
      "execution_count": null,
      "outputs": [
        {
          "output_type": "stream",
          "text": [
            "My Name is \n",
            "Aharnish Dwivedi\n",
            "\n",
            "My roll number is \n",
            "191347\n"
          ],
          "name": "stdout"
        }
      ]
    },
    {
      "cell_type": "code",
      "metadata": {
        "id": "YJ94pvVOOhxx",
        "outputId": "09c55f44-1362-4308-a429-3bbcaca4b9ec",
        "colab": {
          "base_uri": "https://localhost:8080/",
          "height": 87
        }
      },
      "source": [
        "#soln3\n",
        "a = int(input(\"Enter First number: \"))\n",
        "b = int(input(\"Enter Second number: \"))\n",
        "c = int(input(\"Enter Third number: \"))\n",
        "print(a+b+c)\n"
      ],
      "execution_count": null,
      "outputs": [
        {
          "output_type": "stream",
          "text": [
            "Enter First number: 2\n",
            "Enter Second number: 3\n",
            "Enter Third number: 3\n",
            "8\n"
          ],
          "name": "stdout"
        }
      ]
    },
    {
      "cell_type": "code",
      "metadata": {
        "id": "xLACZ1pQPGOM",
        "outputId": "4f1e6cc9-4a7d-49da-aea6-6e72b65f28c6",
        "colab": {
          "base_uri": "https://localhost:8080/",
          "height": 70
        }
      },
      "source": [
        "#soln4\n",
        "f_name = input(\"Enter First Name: \")\n",
        "l_name = input(\"Enter Last Name: \")\n",
        "\n",
        "print(f_name+\" \"+l_name)"
      ],
      "execution_count": null,
      "outputs": [
        {
          "output_type": "stream",
          "text": [
            "Enter First Name: aharnish\n",
            "Enter Last Name: dwivedi\n",
            "aharnish dwivedi\n"
          ],
          "name": "stdout"
        }
      ]
    },
    {
      "cell_type": "code",
      "metadata": {
        "id": "7w7Vi6PWQXMv",
        "outputId": "2f2e11ea-4532-4651-b200-8e923e07e8af",
        "colab": {
          "base_uri": "https://localhost:8080/",
          "height": 34
        }
      },
      "source": [
        "#soln5\n",
        "a,b,c=33,17.5,\"python\"\n",
        "type(a)\n",
        "type(b)\n",
        "type(c)\n",
        "\n",
        "\n",
        "\n"
      ],
      "execution_count": null,
      "outputs": [
        {
          "output_type": "execute_result",
          "data": {
            "text/plain": [
              "str"
            ]
          },
          "metadata": {
            "tags": []
          },
          "execution_count": 21
        }
      ]
    },
    {
      "cell_type": "code",
      "metadata": {
        "id": "QPEVmhURRy68",
        "outputId": "bf39ae41-44fb-4f73-90cd-02bd9aa73ca3",
        "colab": {
          "base_uri": "https://localhost:8080/",
          "height": 34
        }
      },
      "source": [
        "#soln6\n",
        "x=17\n",
        "x=complex(x)\n",
        "x\n",
        "\n"
      ],
      "execution_count": null,
      "outputs": [
        {
          "output_type": "execute_result",
          "data": {
            "text/plain": [
              "(17+0j)"
            ]
          },
          "metadata": {
            "tags": []
          },
          "execution_count": 22
        }
      ]
    },
    {
      "cell_type": "code",
      "metadata": {
        "id": "F8AmenG8S6cH",
        "outputId": "1e32b321-286c-45d0-acdb-c75550c3c528",
        "colab": {
          "base_uri": "https://localhost:8080/",
          "height": 87
        }
      },
      "source": [
        "p = float(input(\"Enter the principal amount: \"))\n",
        "t = float(input(\"Enter the time in years: \"))\n",
        "r = float(input(\"Enter the interest rate: \"))\n",
        "\n",
        "simple_interest = p * t * r / 100\n",
        "\n",
        "print(\"Simple Interest = %.2f\" %simple_interest)"
      ],
      "execution_count": null,
      "outputs": [
        {
          "output_type": "stream",
          "text": [
            "Enter the principal amount: 500\n",
            "Enter the time in years: 5\n",
            "Enter the interest rate: 2\n",
            "Simple Interest = 50.00\n"
          ],
          "name": "stdout"
        }
      ]
    }
  ]
}