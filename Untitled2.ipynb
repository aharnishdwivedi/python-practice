{
  "nbformat": 4,
  "nbformat_minor": 0,
  "metadata": {
    "colab": {
      "name": "Untitled2.ipynb",
      "provenance": [],
      "collapsed_sections": [],
      "authorship_tag": "ABX9TyMZCkwZEhUwiQetUOV7g5h1",
      "include_colab_link": true
    },
    "kernelspec": {
      "name": "python3",
      "display_name": "Python 3"
    }
  },
  "cells": [
    {
      "cell_type": "markdown",
      "metadata": {
        "id": "view-in-github",
        "colab_type": "text"
      },
      "source": [
        "<a href=\"https://colab.research.google.com/github/aharnishdwivedi/python-practice/blob/main/Untitled2.ipynb\" target=\"_parent\"><img src=\"https://colab.research.google.com/assets/colab-badge.svg\" alt=\"Open In Colab\"/></a>"
      ]
    },
    {
      "cell_type": "code",
      "metadata": {
        "id": "mZITy4rlr2lj"
      },
      "source": [
        "\n",
        "def squaresum(n) : \n",
        " \n",
        "    sm = 0\n",
        "    for i in range(1, n+1) : \n",
        "        sm = sm + (i*i*i) \n",
        "      \n",
        "    return sm \n",
        "  \n",
        "\n",
        "n = 10\n",
        "print(squaresum(n)) \n"
      ],
      "execution_count": null,
      "outputs": []
    },
    {
      "cell_type": "code",
      "metadata": {
        "id": "TRtEKAQ1SqTw",
        "outputId": "e7135ec9-de62-478c-fb49-dbb2fe4058d2",
        "colab": {
          "base_uri": "https://localhost:8080/",
          "height": 34
        }
      },
      "source": [
        "a = [1,2,3,4]\n",
        "b = [5,6,7,8]\n",
        "a+b\n"
      ],
      "execution_count": null,
      "outputs": [
        {
          "output_type": "execute_result",
          "data": {
            "text/plain": [
              "[1, 2, 3, 4, 5, 6, 7, 8]"
            ]
          },
          "metadata": {
            "tags": []
          },
          "execution_count": 1
        }
      ]
    },
    {
      "cell_type": "code",
      "metadata": {
        "id": "VRxWNQS4Os-4",
        "outputId": "046e37a5-89c1-42b8-e911-4d8f3a47c807",
        "colab": {
          "base_uri": "https://localhost:8080/",
          "height": 228
        }
      },
      "source": [
        "n=20\n",
        "for i in range(1, 13):\n",
        "    print(' '*n, end='')\n",
        "    print('@ '*(i))\n",
        "    n-=1"
      ],
      "execution_count": null,
      "outputs": [
        {
          "output_type": "stream",
          "text": [
            "                    @ \n",
            "                   @ @ \n",
            "                  @ @ @ \n",
            "                 @ @ @ @ \n",
            "                @ @ @ @ @ \n",
            "               @ @ @ @ @ @ \n",
            "              @ @ @ @ @ @ @ \n",
            "             @ @ @ @ @ @ @ @ \n",
            "            @ @ @ @ @ @ @ @ @ \n",
            "           @ @ @ @ @ @ @ @ @ @ \n",
            "          @ @ @ @ @ @ @ @ @ @ @ \n",
            "         @ @ @ @ @ @ @ @ @ @ @ @ \n"
          ],
          "name": "stdout"
        }
      ]
    },
    {
      "cell_type": "code",
      "metadata": {
        "id": "THI2Zgs-xRWY",
        "outputId": "5122ac5c-9108-47f4-8cfa-3d44de3d3880",
        "colab": {
          "base_uri": "https://localhost:8080/",
          "height": 210
        }
      },
      "source": [
        "lower = int(input(\"Enter lower range: \"))  \n",
        "upper = int(input(\"Enter upper range: \"))  \n",
        "  \n",
        "for num in range(lower,upper + 1):  \n",
        "   if num > 1:  \n",
        "       for i in range(2,num):  \n",
        "           if (num % i) == 0:  \n",
        "               break  \n",
        "       else:  \n",
        "           print(num, num*num)  "
      ],
      "execution_count": null,
      "outputs": [
        {
          "output_type": "stream",
          "text": [
            "Enter lower range: 2\n",
            "Enter upper range: 23\n",
            "2 4\n",
            "3 9\n",
            "5 25\n",
            "7 49\n",
            "11 121\n",
            "13 169\n",
            "17 289\n",
            "19 361\n",
            "23 529\n"
          ],
          "name": "stdout"
        }
      ]
    },
    {
      "cell_type": "code",
      "metadata": {
        "id": "AgWdjl6QxlLY",
        "outputId": "ec5ba2e0-c9d6-4359-ed1d-116105412a6d",
        "colab": {
          "base_uri": "https://localhost:8080/",
          "height": 87
        }
      },
      "source": [
        "def compound_interest(principle, rate, time):\n",
        "    Amount = principle * (pow((1 + rate / 100), time))\n",
        "    CI = Amount - principle\n",
        "    print(\"Compound interest is\", CI)\n",
        "\n",
        "p = float(input(\"principle: \"))\n",
        "r = float(input(\"rate: \"))\n",
        "t = float(input(\"time: \"))\n",
        "compound_interest(p, r, t)"
      ],
      "execution_count": null,
      "outputs": [
        {
          "output_type": "stream",
          "text": [
            "principle: 333\n",
            "rate: 34\n",
            "time: 5\n",
            "Compound interest is 1105.6933140192004\n"
          ],
          "name": "stdout"
        }
      ]
    },
    {
      "cell_type": "code",
      "metadata": {
        "id": "zhVeJDqBO61o",
        "outputId": "a01fa38e-87ee-400b-e88f-8077f13bdeed",
        "colab": {
          "base_uri": "https://localhost:8080/",
          "height": 34
        }
      },
      "source": [
        "print(\"hello world\")"
      ],
      "execution_count": null,
      "outputs": [
        {
          "output_type": "stream",
          "text": [
            "hello world\n"
          ],
          "name": "stdout"
        }
      ]
    },
    {
      "cell_type": "code",
      "metadata": {
        "id": "i578fvz0qkG9",
        "outputId": "46228dbc-069c-44d6-db66-b762ff26acdc",
        "colab": {
          "base_uri": "https://localhost:8080/",
          "height": 52
        }
      },
      "source": [
        "number=int(input(\"Enter Number\"))\n",
        "if number>=0:\n",
        "  print(\"positive Number\")\n",
        "else:\n",
        "  print(\"Negative Number\")\n"
      ],
      "execution_count": null,
      "outputs": [
        {
          "output_type": "stream",
          "text": [
            "Enter Number34\n",
            "positive Number\n"
          ],
          "name": "stdout"
        }
      ]
    },
    {
      "cell_type": "code",
      "metadata": {
        "id": "WkivRi4rrFEm",
        "outputId": "c34c21eb-a485-438e-fe98-ebe3869aa6d3",
        "colab": {
          "base_uri": "https://localhost:8080/",
          "height": 52
        }
      },
      "source": [
        "year=int(input(\"Enter Year \"))\n",
        "if year%4==0:\n",
        "  print(\"leap year\")\n",
        "else:\n",
        "  print(\"normal year\")"
      ],
      "execution_count": null,
      "outputs": [
        {
          "output_type": "stream",
          "text": [
            "Enter Year2015\n",
            "normal year\n"
          ],
          "name": "stdout"
        }
      ]
    },
    {
      "cell_type": "code",
      "metadata": {
        "id": "7CJLjeUis3cW",
        "outputId": "d6f68492-1fd7-4df5-b517-fc80035da9ac",
        "colab": {
          "base_uri": "https://localhost:8080/",
          "height": 52
        }
      },
      "source": [
        "ch = input(\"Enter a character: \")\n",
        "if((ch>='a' and ch<= 'z') or (ch>='A' and ch<='Z')):\n",
        "    print(ch, \"is an Alphabet\")\n",
        "else:\n",
        "    print(ch, \"is not an Alphabet\")"
      ],
      "execution_count": null,
      "outputs": [
        {
          "output_type": "stream",
          "text": [
            "Enter a character: A\n",
            "A is an Alphabet\n"
          ],
          "name": "stdout"
        }
      ]
    },
    {
      "cell_type": "code",
      "metadata": {
        "id": "fQCrgyf7rp2l",
        "outputId": "73cca5ef-322b-41a9-f4fd-2b74f30bbb23",
        "colab": {
          "base_uri": "https://localhost:8080/",
          "height": 52
        }
      },
      "source": [
        "ch = input(\"Enter a character: \")\n",
        "\n",
        "if(ch=='A' or ch=='a' or ch=='E' or ch =='e' or ch=='I'\n",
        " or ch=='i' or ch=='O' or ch=='o' or ch=='U' or ch=='u'):\n",
        "    print(ch, \"is a Vowel\")\n",
        "else:\n",
        "    print(ch, \"is a Consonant\")"
      ],
      "execution_count": null,
      "outputs": [
        {
          "output_type": "stream",
          "text": [
            "Enter a character: a\n",
            "a is a Vowel\n"
          ],
          "name": "stdout"
        }
      ]
    },
    {
      "cell_type": "code",
      "metadata": {
        "id": "EtU-6vy5sRwQ",
        "outputId": "0af802ac-f079-4901-8477-837278f0e7d6",
        "colab": {
          "base_uri": "https://localhost:8080/",
          "height": 70
        }
      },
      "source": [
        "num1 = input('Enter first number: ')\n",
        "num2 = input('Enter second number: ')\n",
        " \n",
        "\n",
        "sum = float(num1) + float(num2)\n",
        " \n",
        "\n",
        "print('The sum of {0} and {1} is {2}'.format(num1, num2, sum))"
      ],
      "execution_count": null,
      "outputs": [
        {
          "output_type": "stream",
          "text": [
            "Enter first number: 23\n",
            "Enter second number: 3\n",
            "The sum of 23 and 3 is 26.0\n"
          ],
          "name": "stdout"
        }
      ]
    },
    {
      "cell_type": "code",
      "metadata": {
        "id": "iIr02jZCtNRn"
      },
      "source": [
        "num = int(input(\"Enter a number: \"))  \n",
        "  \n",
        "if num > 1:  \n",
        "   for i in range(2,num):  \n",
        "       if (num % i) == 0:  \n",
        "           print(num,\"is not a prime number\")  \n",
        "           print(i,\"times\",num//i,\"is\",num)  \n",
        "           break  \n",
        "   else:  \n",
        "       print(num,\"is a prime number\")  \n",
        "         \n",
        "else:  \n",
        "   print(num,\"is not a prime number\")"
      ],
      "execution_count": null,
      "outputs": []
    },
    {
      "cell_type": "code",
      "metadata": {
        "id": "ZztnPq8KtdsB",
        "outputId": "6666b866-1a64-446c-a7c4-f5f010369b97",
        "colab": {
          "base_uri": "https://localhost:8080/",
          "height": 52
        }
      },
      "source": [
        "num = int(input(\"Enter a number: \"))\n",
        "if (num % 2) == 0:\n",
        "   print(\"{0} is Even\".format(num))\n",
        "else:\n",
        "   print(\"{0} is Odd\".format(num))"
      ],
      "execution_count": null,
      "outputs": [
        {
          "output_type": "stream",
          "text": [
            "Enter a number: 12\n",
            "12 is Even\n"
          ],
          "name": "stdout"
        }
      ]
    },
    {
      "cell_type": "code",
      "metadata": {
        "id": "6qaZMDqlt4Yz",
        "outputId": "cfcda9fd-e65e-4383-f068-d594cacf04f6",
        "colab": {
          "base_uri": "https://localhost:8080/",
          "height": 70
        }
      },
      "source": [
        "dec = int(input(\"Enter Decimal Number \"))\n",
        "\n",
        "print(\"The decimal value of\", dec, \"is:\")\n",
        "print(bin(dec), \"in binary.\")"
      ],
      "execution_count": null,
      "outputs": [
        {
          "output_type": "stream",
          "text": [
            "Enter Decimal Number 16\n",
            "The decimal value of 16 is:\n",
            "0b10000 in binary.\n"
          ],
          "name": "stdout"
        }
      ]
    },
    {
      "cell_type": "code",
      "metadata": {
        "id": "M4qoGjJMuNyw",
        "outputId": "dc49837c-c763-4137-fa8b-659f3ee31030",
        "colab": {
          "base_uri": "https://localhost:8080/",
          "height": 52
        }
      },
      "source": [
        "num = int(input(\"Enter Number\"))\n",
        "factorial = 1\n",
        "if num < 0:\n",
        "   print(\"Sorry, factorial does not exist for negative numbers\")\n",
        "elif num == 0:\n",
        "   print(\"The factorial of 0 is 1\")\n",
        "else:\n",
        "   for i in range(1,num + 1):\n",
        "       factorial = factorial*i\n",
        "   print(\"The factorial of\",num,\"is\",factorial)"
      ],
      "execution_count": null,
      "outputs": [
        {
          "output_type": "stream",
          "text": [
            "Enter Number12\n",
            "The factorial of 12 is 479001600\n"
          ],
          "name": "stdout"
        }
      ]
    },
    {
      "cell_type": "code",
      "metadata": {
        "id": "OJPsRPhRvSPg",
        "outputId": "f93bb2d6-8245-47b2-cf87-c35e656cbfa3",
        "colab": {
          "base_uri": "https://localhost:8080/",
          "height": 255
        }
      },
      "source": [
        "\n",
        "num1 = bin(input(\"Enter Binary num1\"))\n",
        "\n",
        "num2 = bin(input(\"Enter Binary num2\"))\n",
        "\n",
        "\n",
        "sum = bin(int(num1) + int(num2))\n",
        "print(sum)"
      ],
      "execution_count": null,
      "outputs": [
        {
          "output_type": "stream",
          "text": [
            "Enter Binary num110\n"
          ],
          "name": "stdout"
        },
        {
          "output_type": "error",
          "ename": "TypeError",
          "evalue": "ignored",
          "traceback": [
            "\u001b[0;31m---------------------------------------------------------------------------\u001b[0m",
            "\u001b[0;31mTypeError\u001b[0m                                 Traceback (most recent call last)",
            "\u001b[0;32m<ipython-input-12-ef98dabe846f>\u001b[0m in \u001b[0;36m<module>\u001b[0;34m()\u001b[0m\n\u001b[1;32m      1\u001b[0m \u001b[0;34m\u001b[0m\u001b[0m\n\u001b[0;32m----> 2\u001b[0;31m \u001b[0mnum1\u001b[0m \u001b[0;34m=\u001b[0m \u001b[0mbin\u001b[0m\u001b[0;34m(\u001b[0m\u001b[0minput\u001b[0m\u001b[0;34m(\u001b[0m\u001b[0;34m\"Enter Binary num1\"\u001b[0m\u001b[0;34m)\u001b[0m\u001b[0;34m)\u001b[0m\u001b[0;34m\u001b[0m\u001b[0;34m\u001b[0m\u001b[0m\n\u001b[0m\u001b[1;32m      3\u001b[0m \u001b[0;34m\u001b[0m\u001b[0m\n\u001b[1;32m      4\u001b[0m \u001b[0mnum2\u001b[0m \u001b[0;34m=\u001b[0m \u001b[0mbin\u001b[0m\u001b[0;34m(\u001b[0m\u001b[0minput\u001b[0m\u001b[0;34m(\u001b[0m\u001b[0;34m\"Enter Binary num2\"\u001b[0m\u001b[0;34m)\u001b[0m\u001b[0;34m)\u001b[0m\u001b[0;34m\u001b[0m\u001b[0;34m\u001b[0m\u001b[0m\n\u001b[1;32m      5\u001b[0m \u001b[0;34m\u001b[0m\u001b[0m\n",
            "\u001b[0;31mTypeError\u001b[0m: 'str' object cannot be interpreted as an integer"
          ]
        }
      ]
    },
    {
      "cell_type": "code",
      "metadata": {
        "id": "1qMtKwPzwNLS"
      },
      "source": [
        "\n",
        "def print_first_N_primes(N): \n",
        "  \n",
        "   \n",
        "    i, j, flag = 0, 0, 0; \n",
        "  \n",
        "    \n",
        "    print(\"Prime numbers between 1 and \", \n",
        "                            N , \" are:\"); \n",
        "  \n",
        "    for i in range(1, N + 1, 1): \n",
        "  \n",
        "\n",
        "        if (i == 1 or i == 0): \n",
        "            continue; \n",
        "  \n",
        "\n",
        "        flag = 1; \n",
        "  \n",
        "        for j in range(2, ((i // 2) + 1), 1): \n",
        "            if (i % j == 0): \n",
        "                flag = 0; \n",
        "                break; \n",
        "  \n",
        "\n",
        "        if (flag == 1): \n",
        "            print(i, end = \" \"); \n",
        "  \n",
        "N = 100; \n",
        "print_first_N_primes(N); "
      ],
      "execution_count": null,
      "outputs": []
    },
    {
      "cell_type": "code",
      "metadata": {
        "id": "IzC3d2uvemp6",
        "outputId": "9107d9cd-a58e-443f-e967-9c38a314be78",
        "colab": {
          "base_uri": "https://localhost:8080/"
        }
      },
      "source": [
        "def add(a,b):\n",
        "\n",
        "     return a + b\n",
        "\n",
        "#when i call this function with arguments it will print the addition of the two numbers\n",
        "\n",
        "print(add(10,15))"
      ],
      "execution_count": null,
      "outputs": [
        {
          "output_type": "stream",
          "text": [
            "25\n"
          ],
          "name": "stdout"
        }
      ]
    },
    {
      "cell_type": "code",
      "metadata": {
        "id": "YjFMs7FgfLn_",
        "outputId": "c246229c-94c2-4622-fdb6-cac7eded9910",
        "colab": {
          "base_uri": "https://localhost:8080/",
          "height": 210
        }
      },
      "source": [
        "a=[]\n",
        "c=[]\n",
        "n1=int(input(\"Enter number of elements:\"))\n",
        "for i in range(1,n1+1):\n",
        "    b=int(input(\"Enter element:\"))\n",
        "    a.append(b)\n",
        "n2=int(input(\"Enter number of elements:\"))\n",
        "for i in range(1,n2+1):\n",
        "    d=int(input(\"Enter element:\"))\n",
        "    c.append(d)\n",
        "new=a+c\n",
        "new.sort()\n",
        "print(\"Sorted list is:\",new)\n"
      ],
      "execution_count": null,
      "outputs": [
        {
          "output_type": "stream",
          "text": [
            "Enter number of elements:4\n",
            "Enter element:1\n",
            "Enter element:3\n",
            "Enter element:5\n",
            "Enter element:7\n",
            "Enter number of elements:4\n",
            "Enter element:2\n",
            "Enter element:4\n",
            "Enter element:6\n",
            "Enter element:8\n",
            "Sorted list is: [1, 2, 3, 4, 5, 6, 7, 8]\n"
          ],
          "name": "stdout"
        }
      ]
    },
    {
      "cell_type": "code",
      "metadata": {
        "id": "ybGiGa3RlbwQ",
        "outputId": "60926727-8944-4a16-f9d2-ad03627c28cd",
        "colab": {
          "base_uri": "https://localhost:8080/",
          "height": 122
        }
      },
      "source": [
        "import random\n",
        "i = 0\n",
        "\n",
        "while(i<3):\n",
        "  x=random.randint(1,6)\n",
        "  y=random.randint(1,6)\n",
        "  z = x+y\n",
        "  y=int(input(\"Guess number: \"))\n",
        "  if y == z:\n",
        "    print(\"you won\")\n",
        "  else:\n",
        "    print(\"sorry correct answer was:\",z)\n",
        "    i+=1\n",
        "\n"
      ],
      "execution_count": null,
      "outputs": [
        {
          "output_type": "stream",
          "text": [
            "Guess number: 4\n",
            "sorry correct answer was: 10\n",
            "Guess number: 4\n",
            "sorry correct answer was: 11\n",
            "Guess number: 4\n",
            "sorry correct answer was: 9\n"
          ],
          "name": "stdout"
        }
      ]
    },
    {
      "cell_type": "code",
      "metadata": {
        "id": "DxCjCsXgVAAP"
      },
      "source": [
        ""
      ],
      "execution_count": null,
      "outputs": []
    }
  ]
}